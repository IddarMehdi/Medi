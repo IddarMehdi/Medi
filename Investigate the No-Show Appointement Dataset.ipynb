{
 "cells": [
  {
   "cell_type": "markdown",
   "metadata": {},
   "source": [
    "\n",
    "# Project: Investigate the No-Show Appointement Dataset \n",
    "\n",
    "## Table of Contents\n",
    "<ul>\n",
    "<li><a href=\"#intro\">A. Introduction</a></li>\n",
    "<li><a href=\"#wrangling\">B. Data Wrangling</a></li>\n",
    "<li><a href=\"#eda\">C. Exploratory Data Analysis</a></li>\n",
    "<li><a href=\"#conclusions\">D. Conclusions</a></li>\n",
    "</ul>"
   ]
  },
  {
   "cell_type": "markdown",
   "metadata": {},
   "source": [
    "<a id='intro'></a>\n",
    "## A. Introduction\n",
    "\n",
    "in Brazil persons make a docotor appointement but dont show-up. This dataset and its 14 variables (characteristics) collects information from 100k medical appointments in Brazil and is focused on the question of whether or not patients show up for their appointment. <br>\n",
    "\n",
    "The variables of this data set are : <br>\n",
    "\n",
    "__PatientId__ : Identification of a patient <br>\n",
    "__AppointmentID__ : Identification of each appointment <br>\n",
    "__Gender__ : Male or Female <br>\n",
    "__ScheduledDay__ : The day someone called or registered the appointment, this is before appointment of course <br>\n",
    "__AppointmentDay__ : The day of the actuall appointment, when they have to visit the doctor <br>\n",
    "__Age__ : How old is the patient <br>\n",
    "__Neighbourhood__ : Where the appointment takes place <br>\n",
    "__Scholarship__ : True(1) or False(0) 'True' if the patient is recipient of the social welfare program by the government of Brazil <br> \n",
    "__Hipertension__ : True(1) or False(0) <br>\n",
    "__Diabetes__ : True(1) or False(0) <br>\n",
    "__Alcoholism__ : True(1) or False(0) <br>\n",
    "__Handcap__ : True(1) or False(0) <br>\n",
    "__SMS_received__ : 1 or more messages sent to the patient <br>\n",
    "__No-show__ : Yes or No it says ‘No’ if the patient showed up to their appointment, and ‘Yes’ if they did not show up <br>\n",
    "\n",
    "* __Question 1 : Is there any relation between receipt of social welfare and showing to appointment ?__\n",
    "* __Question 2 : Is there any relation between gender and no show ?__\n",
    "* __Question 3 : Is there any relation between the waiting period and no_show ?__\n",
    "\n",
    "\n"
   ]
  },
  {
   "cell_type": "code",
   "execution_count": 2,
   "metadata": {},
   "outputs": [],
   "source": [
    "#importing pandas, numpy, and matplotlib.pyplot\n",
    "import pandas as pd\n",
    "import numpy as np\n",
    "import matplotlib.pyplot as plt\n",
    "% matplotlib inline"
   ]
  },
  {
   "cell_type": "markdown",
   "metadata": {},
   "source": [
    " I used the previous cell to import the packages that I am going to use through the analysis : __pandas , numpy and matplotlib.pyplot__ <br>\n",
    " I also added the line __(% matplotlib inline)__ to be ablse to plot visualizations on the same notebook"
   ]
  },
  {
   "cell_type": "markdown",
   "metadata": {},
   "source": [
    "<a id='wrangling'></a>\n",
    "## B. Data Wrangling\n",
    "\n",
    "This section of the report is devoted to : <br>\n",
    "* Loading in the data <br>\n",
    "* checking for cleanliness, and then triming and cleaning the dataset for analysis. \n",
    "\n",
    "### General Properties"
   ]
  },
  {
   "cell_type": "code",
   "execution_count": 3,
   "metadata": {},
   "outputs": [
    {
     "data": {
      "text/html": [
       "<div>\n",
       "<style scoped>\n",
       "    .dataframe tbody tr th:only-of-type {\n",
       "        vertical-align: middle;\n",
       "    }\n",
       "\n",
       "    .dataframe tbody tr th {\n",
       "        vertical-align: top;\n",
       "    }\n",
       "\n",
       "    .dataframe thead th {\n",
       "        text-align: right;\n",
       "    }\n",
       "</style>\n",
       "<table border=\"1\" class=\"dataframe\">\n",
       "  <thead>\n",
       "    <tr style=\"text-align: right;\">\n",
       "      <th></th>\n",
       "      <th>PatientId</th>\n",
       "      <th>AppointmentID</th>\n",
       "      <th>Gender</th>\n",
       "      <th>ScheduledDay</th>\n",
       "      <th>AppointmentDay</th>\n",
       "      <th>Age</th>\n",
       "      <th>Neighbourhood</th>\n",
       "      <th>Scholarship</th>\n",
       "      <th>Hipertension</th>\n",
       "      <th>Diabetes</th>\n",
       "      <th>Alcoholism</th>\n",
       "      <th>Handcap</th>\n",
       "      <th>SMS_received</th>\n",
       "      <th>No-show</th>\n",
       "    </tr>\n",
       "  </thead>\n",
       "  <tbody>\n",
       "    <tr>\n",
       "      <th>0</th>\n",
       "      <td>2.987250e+13</td>\n",
       "      <td>5642903</td>\n",
       "      <td>F</td>\n",
       "      <td>2016-04-29T18:38:08Z</td>\n",
       "      <td>2016-04-29T00:00:00Z</td>\n",
       "      <td>62</td>\n",
       "      <td>JARDIM DA PENHA</td>\n",
       "      <td>0</td>\n",
       "      <td>1</td>\n",
       "      <td>0</td>\n",
       "      <td>0</td>\n",
       "      <td>0</td>\n",
       "      <td>0</td>\n",
       "      <td>No</td>\n",
       "    </tr>\n",
       "    <tr>\n",
       "      <th>1</th>\n",
       "      <td>5.589978e+14</td>\n",
       "      <td>5642503</td>\n",
       "      <td>M</td>\n",
       "      <td>2016-04-29T16:08:27Z</td>\n",
       "      <td>2016-04-29T00:00:00Z</td>\n",
       "      <td>56</td>\n",
       "      <td>JARDIM DA PENHA</td>\n",
       "      <td>0</td>\n",
       "      <td>0</td>\n",
       "      <td>0</td>\n",
       "      <td>0</td>\n",
       "      <td>0</td>\n",
       "      <td>0</td>\n",
       "      <td>No</td>\n",
       "    </tr>\n",
       "    <tr>\n",
       "      <th>2</th>\n",
       "      <td>4.262962e+12</td>\n",
       "      <td>5642549</td>\n",
       "      <td>F</td>\n",
       "      <td>2016-04-29T16:19:04Z</td>\n",
       "      <td>2016-04-29T00:00:00Z</td>\n",
       "      <td>62</td>\n",
       "      <td>MATA DA PRAIA</td>\n",
       "      <td>0</td>\n",
       "      <td>0</td>\n",
       "      <td>0</td>\n",
       "      <td>0</td>\n",
       "      <td>0</td>\n",
       "      <td>0</td>\n",
       "      <td>No</td>\n",
       "    </tr>\n",
       "  </tbody>\n",
       "</table>\n",
       "</div>"
      ],
      "text/plain": [
       "      PatientId  AppointmentID Gender          ScheduledDay  \\\n",
       "0  2.987250e+13        5642903      F  2016-04-29T18:38:08Z   \n",
       "1  5.589978e+14        5642503      M  2016-04-29T16:08:27Z   \n",
       "2  4.262962e+12        5642549      F  2016-04-29T16:19:04Z   \n",
       "\n",
       "         AppointmentDay  Age    Neighbourhood  Scholarship  Hipertension  \\\n",
       "0  2016-04-29T00:00:00Z   62  JARDIM DA PENHA            0             1   \n",
       "1  2016-04-29T00:00:00Z   56  JARDIM DA PENHA            0             0   \n",
       "2  2016-04-29T00:00:00Z   62    MATA DA PRAIA            0             0   \n",
       "\n",
       "   Diabetes  Alcoholism  Handcap  SMS_received No-show  \n",
       "0         0           0        0             0      No  \n",
       "1         0           0        0             0      No  \n",
       "2         0           0        0             0      No  "
      ]
     },
     "execution_count": 3,
     "metadata": {},
     "output_type": "execute_result"
    }
   ],
   "source": [
    "# importing the csv file 'noshowappointments-kagglev2-may-2016.csv' as pandas's dataframe\n",
    "df = pd.read_csv('noshowappointments-kagglev2-may-2016.csv')\n",
    "df.head(3)"
   ]
  },
  {
   "cell_type": "markdown",
   "metadata": {},
   "source": [
    "I loaded the data and printed out a 3 lines. Let's now perform some operations to inspect data\n"
   ]
  },
  {
   "cell_type": "code",
   "execution_count": 4,
   "metadata": {},
   "outputs": [
    {
     "data": {
      "text/plain": [
       "(110527, 14)"
      ]
     },
     "execution_count": 4,
     "metadata": {},
     "output_type": "execute_result"
    }
   ],
   "source": [
    "# Showing how many columns and rows are in the dataset\n",
    "df.shape"
   ]
  },
  {
   "cell_type": "markdown",
   "metadata": {},
   "source": [
    "This dataset contains : <br>\n",
    "    __110527 rows <br>\n",
    "    14 columns <br>__"
   ]
  },
  {
   "cell_type": "code",
   "execution_count": 5,
   "metadata": {},
   "outputs": [
    {
     "data": {
      "text/plain": [
       "Index(['PatientId', 'AppointmentID', 'Gender', 'ScheduledDay',\n",
       "       'AppointmentDay', 'Age', 'Neighbourhood', 'Scholarship', 'Hipertension',\n",
       "       'Diabetes', 'Alcoholism', 'Handcap', 'SMS_received', 'No-show'],\n",
       "      dtype='object')"
      ]
     },
     "execution_count": 5,
     "metadata": {},
     "output_type": "execute_result"
    }
   ],
   "source": [
    "# Printing the columns of the dataset\n",
    "df.columns"
   ]
  },
  {
   "cell_type": "markdown",
   "metadata": {},
   "source": [
    "__To do in next steps : cleaning names of the columns :__ <br> \n",
    "names of columns should be lowercase <br>\n",
    "I should also rename the column 'No-show' using '_' in place of '-'\n"
   ]
  },
  {
   "cell_type": "code",
   "execution_count": 6,
   "metadata": {},
   "outputs": [
    {
     "data": {
      "text/plain": [
       "PatientId         float64\n",
       "AppointmentID       int64\n",
       "Gender             object\n",
       "ScheduledDay       object\n",
       "AppointmentDay     object\n",
       "Age                 int64\n",
       "Neighbourhood      object\n",
       "Scholarship         int64\n",
       "Hipertension        int64\n",
       "Diabetes            int64\n",
       "Alcoholism          int64\n",
       "Handcap             int64\n",
       "SMS_received        int64\n",
       "No-show            object\n",
       "dtype: object"
      ]
     },
     "execution_count": 6,
     "metadata": {},
     "output_type": "execute_result"
    }
   ],
   "source": [
    "# Printing data types of each column\n",
    "df.dtypes"
   ]
  },
  {
   "cell_type": "markdown",
   "metadata": {},
   "source": [
    "After checking data types :\n",
    "\n",
    "__'PatientId'__ data type should be changed to __'int'__ instead of __'float'__ <br> \n",
    "__'ScheduledDay'__ and __'AppointmentDay'__ data type should be changed to __'datetime'__"
   ]
  },
  {
   "cell_type": "code",
   "execution_count": 7,
   "metadata": {},
   "outputs": [
    {
     "data": {
      "text/plain": [
       "0"
      ]
     },
     "execution_count": 7,
     "metadata": {},
     "output_type": "execute_result"
    }
   ],
   "source": [
    "# Checking how many duplicated rows are in the dataset\n",
    "df.duplicated().sum()"
   ]
  },
  {
   "cell_type": "markdown",
   "metadata": {},
   "source": [
    "The previous code cell shows there is no duplicated rows in the dataset"
   ]
  },
  {
   "cell_type": "code",
   "execution_count": 8,
   "metadata": {},
   "outputs": [
    {
     "data": {
      "text/plain": [
       "PatientId         0\n",
       "AppointmentID     0\n",
       "Gender            0\n",
       "ScheduledDay      0\n",
       "AppointmentDay    0\n",
       "Age               0\n",
       "Neighbourhood     0\n",
       "Scholarship       0\n",
       "Hipertension      0\n",
       "Diabetes          0\n",
       "Alcoholism        0\n",
       "Handcap           0\n",
       "SMS_received      0\n",
       "No-show           0\n",
       "dtype: int64"
      ]
     },
     "execution_count": 8,
     "metadata": {},
     "output_type": "execute_result"
    }
   ],
   "source": [
    "# Checking how many null values are in each column\n",
    "df.isnull().sum()"
   ]
  },
  {
   "cell_type": "markdown",
   "metadata": {},
   "source": [
    "The previous code cell  shows there is no null values in the dataset"
   ]
  },
  {
   "cell_type": "markdown",
   "metadata": {},
   "source": [
    "\n",
    "\n",
    "\n",
    "### Data Cleaning \n",
    "\n",
    "In this section I will : <br>\n",
    "* Clean names of the columns by apply lowercase to all columns ,and rename the'No-show' column \n",
    "* Chgange data type  : __'PatientId'__ to __'int'__ instead of __'float'__ and  both __'ScheduledDay'__ and __'AppointmentDay'__ to __'datetime'__"
   ]
  },
  {
   "cell_type": "code",
   "execution_count": 9,
   "metadata": {},
   "outputs": [],
   "source": [
    "# Applying lower case to all columns\n",
    "df.rename(columns = lambda x:x.strip().lower() , inplace = True)"
   ]
  },
  {
   "cell_type": "markdown",
   "metadata": {},
   "source": [
    "Apply lowercase to all columns"
   ]
  },
  {
   "cell_type": "code",
   "execution_count": 10,
   "metadata": {},
   "outputs": [],
   "source": [
    "# Rename 'no-show' column\n",
    "df.rename(columns={'no-show': 'no_show'} , inplace=True)"
   ]
  },
  {
   "cell_type": "markdown",
   "metadata": {},
   "source": [
    "renaming the column __'No-show'__\n",
    "using '_' in place of '-' "
   ]
  },
  {
   "cell_type": "code",
   "execution_count": 11,
   "metadata": {},
   "outputs": [
    {
     "data": {
      "text/html": [
       "<div>\n",
       "<style scoped>\n",
       "    .dataframe tbody tr th:only-of-type {\n",
       "        vertical-align: middle;\n",
       "    }\n",
       "\n",
       "    .dataframe tbody tr th {\n",
       "        vertical-align: top;\n",
       "    }\n",
       "\n",
       "    .dataframe thead th {\n",
       "        text-align: right;\n",
       "    }\n",
       "</style>\n",
       "<table border=\"1\" class=\"dataframe\">\n",
       "  <thead>\n",
       "    <tr style=\"text-align: right;\">\n",
       "      <th></th>\n",
       "      <th>patientid</th>\n",
       "      <th>appointmentid</th>\n",
       "      <th>gender</th>\n",
       "      <th>scheduledday</th>\n",
       "      <th>appointmentday</th>\n",
       "      <th>age</th>\n",
       "      <th>neighbourhood</th>\n",
       "      <th>scholarship</th>\n",
       "      <th>hipertension</th>\n",
       "      <th>diabetes</th>\n",
       "      <th>alcoholism</th>\n",
       "      <th>handcap</th>\n",
       "      <th>sms_received</th>\n",
       "      <th>no_show</th>\n",
       "    </tr>\n",
       "  </thead>\n",
       "  <tbody>\n",
       "    <tr>\n",
       "      <th>0</th>\n",
       "      <td>2.987250e+13</td>\n",
       "      <td>5642903</td>\n",
       "      <td>F</td>\n",
       "      <td>2016-04-29T18:38:08Z</td>\n",
       "      <td>2016-04-29T00:00:00Z</td>\n",
       "      <td>62</td>\n",
       "      <td>JARDIM DA PENHA</td>\n",
       "      <td>0</td>\n",
       "      <td>1</td>\n",
       "      <td>0</td>\n",
       "      <td>0</td>\n",
       "      <td>0</td>\n",
       "      <td>0</td>\n",
       "      <td>No</td>\n",
       "    </tr>\n",
       "  </tbody>\n",
       "</table>\n",
       "</div>"
      ],
      "text/plain": [
       "      patientid  appointmentid gender          scheduledday  \\\n",
       "0  2.987250e+13        5642903      F  2016-04-29T18:38:08Z   \n",
       "\n",
       "         appointmentday  age    neighbourhood  scholarship  hipertension  \\\n",
       "0  2016-04-29T00:00:00Z   62  JARDIM DA PENHA            0             1   \n",
       "\n",
       "   diabetes  alcoholism  handcap  sms_received no_show  \n",
       "0         0           0        0             0      No  "
      ]
     },
     "execution_count": 11,
     "metadata": {},
     "output_type": "execute_result"
    }
   ],
   "source": [
    "df.head(1)"
   ]
  },
  {
   "cell_type": "markdown",
   "metadata": {},
   "source": [
    "Checking if changes apply : all columns are lower case and '_' is used instead of '-'"
   ]
  },
  {
   "cell_type": "code",
   "execution_count": 12,
   "metadata": {},
   "outputs": [],
   "source": [
    "# Change 'patientid' data type to integer\n",
    "df['patientid'] = df['patientid'].astype(int)"
   ]
  },
  {
   "cell_type": "code",
   "execution_count": 13,
   "metadata": {},
   "outputs": [],
   "source": [
    "# Change 'scheduledday' and 'appointmentday' data type to datetime\n",
    "df['scheduledday'] = pd.to_datetime(df['scheduledday'])\n",
    "df['appointmentday'] = pd.to_datetime(df['appointmentday'])"
   ]
  },
  {
   "cell_type": "markdown",
   "metadata": {},
   "source": [
    "I changed data type of : <br>\n",
    "__'patientid'__ to int <br>\n",
    "__'scheduledday'__ and __'appointmentday'__ to datetime <br>"
   ]
  },
  {
   "cell_type": "code",
   "execution_count": 14,
   "metadata": {},
   "outputs": [
    {
     "data": {
      "text/plain": [
       "patientid                  int64\n",
       "appointmentid              int64\n",
       "gender                    object\n",
       "scheduledday      datetime64[ns]\n",
       "appointmentday    datetime64[ns]\n",
       "age                        int64\n",
       "neighbourhood             object\n",
       "scholarship                int64\n",
       "hipertension               int64\n",
       "diabetes                   int64\n",
       "alcoholism                 int64\n",
       "handcap                    int64\n",
       "sms_received               int64\n",
       "no_show                   object\n",
       "dtype: object"
      ]
     },
     "execution_count": 14,
     "metadata": {},
     "output_type": "execute_result"
    }
   ],
   "source": [
    "# Checking data types\n",
    "df.dtypes"
   ]
  },
  {
   "cell_type": "markdown",
   "metadata": {},
   "source": [
    "Checking if changes apply : 'patientid' is now integer and both 'scheduledday' and 'appointmentday' are datetime"
   ]
  },
  {
   "cell_type": "markdown",
   "metadata": {},
   "source": [
    "<a id='eda'></a>\n",
    "## C. Exploratory Data Analysis\n",
    "\n",
    "Now that I've cleaned the dataset, I'm ready to move on to exploration. In this part I will compute statistics and create visualizations with the goal of addressing the research questions that I posed in the Introduction section. \n",
    "\n",
    "## Question 1 : Is there any relation between receipt of social welfare and showing to appointment ? \n",
    "\n",
    "Let's first investigate the count of recipients of the Bolsa support vs non-recipients <br> "
   ]
  },
  {
   "cell_type": "code",
   "execution_count": 15,
   "metadata": {},
   "outputs": [
    {
     "data": {
      "text/plain": [
       "10861"
      ]
     },
     "execution_count": 15,
     "metadata": {},
     "output_type": "execute_result"
    }
   ],
   "source": [
    "# Use a mask to calculate the number of bolsa recipients in the dataset\n",
    "bolsa = df[df['scholarship'] == 1]\n",
    "bolsa_count = bolsa['scholarship'].count()\n",
    "bolsa_count"
   ]
  },
  {
   "cell_type": "code",
   "execution_count": 16,
   "metadata": {},
   "outputs": [
    {
     "data": {
      "text/plain": [
       "99666"
      ]
     },
     "execution_count": 16,
     "metadata": {},
     "output_type": "execute_result"
    }
   ],
   "source": [
    "# Use a mask to calculate number of patients who are not recipients of bolsa\n",
    "no_bolsa = df[df['scholarship'] == 0]\n",
    "no_bolsa_count = no_bolsa['scholarship'].count()\n",
    "no_bolsa_count"
   ]
  },
  {
   "cell_type": "code",
   "execution_count": 17,
   "metadata": {},
   "outputs": [
    {
     "data": {
      "image/png": "[encoded data removed]",
      "text/plain": [
       "<matplotlib.figure.Figure at 0x7fefba6477f0>"
      ]
     },
     "metadata": {
      "needs_background": "light"
     },
     "output_type": "display_data"
    }
   ],
   "source": [
    "# Bar plot of 'Number of recipients of the Bolsa support vs non-recipients'\n",
    "locations = [1, 2]\n",
    "heights = [bolsa_count, no_bolsa_count]\n",
    "labels = ['bolsa', 'no_bolsa']\n",
    "plt.bar(locations, heights, tick_label=labels, color = 'green')\n",
    "plt.title('Number of recipients of the Bolsa support vs non-recipients ' , fontsize = 15)\n",
    "plt.xlabel('bolsa / no_bolsa')\n",
    "plt.ylabel('Number of recipients');"
   ]
  },
  {
   "cell_type": "markdown",
   "metadata": {},
   "source": [
    "The large part of patients do not receive a government social welfare <br>\n",
    "Let's plot a pie chart to figure out the composition of bolsa recepients patients regarding the show-up or not to the appointment"
   ]
  },
  {
   "cell_type": "code",
   "execution_count": 18,
   "metadata": {},
   "outputs": [
    {
     "data": {
      "text/plain": [
       "<matplotlib.axes._subplots.AxesSubplot at 0x7fefba571198>"
      ]
     },
     "execution_count": 18,
     "metadata": {},
     "output_type": "execute_result"
    },
    {
     "data": {
      "image/png": "[encoded data removed]",
      "text/plain": [
       "<matplotlib.figure.Figure at 0x7fefba6379e8>"
      ]
     },
     "metadata": {},
     "output_type": "display_data"
    }
   ],
   "source": [
    "# Calculate the composition (%)  of bolsa recepients patients regarding the show-up or not to the appointment\n",
    "df_bolsa = df[df['scholarship'] == 1] # this data frame corresponds to patients who receive bolsa\n",
    "df_blosa_show = df_bolsa.groupby('no_show')['scholarship'].count()\n",
    "df_blosa_show.plot(kind='pie', autopct='%.0f', labels=['show','no_show'], title='composition (%)  of bolsa recepients patients regarding the show-up or not to the appointment', fontsize=10)\n"
   ]
  },
  {
   "cell_type": "markdown",
   "metadata": {},
   "source": [
    "For patients who receive bolsa 76% show-up to appointment however 24% do not show_up"
   ]
  },
  {
   "cell_type": "code",
   "execution_count": 19,
   "metadata": {},
   "outputs": [
    {
     "data": {
      "text/plain": [
       "<matplotlib.axes._subplots.AxesSubplot at 0x7fefba4ee240>"
      ]
     },
     "execution_count": 19,
     "metadata": {},
     "output_type": "execute_result"
    },
    {
     "data": {
      "image/png": "[encoded data removed]",
      "text/plain": [
       "<matplotlib.figure.Figure at 0x7fefba665d30>"
      ]
     },
     "metadata": {},
     "output_type": "display_data"
    }
   ],
   "source": [
    "# Calculate the composition (%)  of bolsa not recepients patients regarding the show-up or not to the appointment\n",
    "df_nobolsa = df[df['scholarship'] == 0] # this data frame corresponds to patients who dont receive bolsa\n",
    "df_noblosa_show = df_nobolsa.groupby('no_show')['scholarship'].count()\n",
    "df_noblosa_show.plot(kind='pie', autopct='%.0f', labels=['show','no_show'], title='composition (%)  of bolsa not recepients patients regarding the show-up or not to the appointment', fontsize=10)\n"
   ]
  },
  {
   "cell_type": "markdown",
   "metadata": {},
   "source": [
    "For patients who don't receive bolsa 80% show-up to appointment however 20% do not show_up.\n",
    "\n"
   ]
  },
  {
   "cell_type": "markdown",
   "metadata": {},
   "source": [
    "## Question 2 : Is there any relation between gender and no show \n",
    "\n",
    "Before diving to answering this question let's start by comparing the proportion of men and women in the dataset. Are women caring more about their health comparing to men ?\n",
    "\n",
    "Let's calculate the proportion of women and men in the dataset"
   ]
  },
  {
   "cell_type": "code",
   "execution_count": 20,
   "metadata": {},
   "outputs": [
    {
     "name": "stdout",
     "output_type": "stream",
     "text": [
      "64.9976928714 35.0023071286\n"
     ]
    }
   ],
   "source": [
    "total_F = df.query('gender == \"F\" ')['patientid'].count()\n",
    "total_M = df.query('gender == \"M\" ')['patientid'].count()\n",
    "avg_total_F = total_F/ (total_F+total_M)*100\n",
    "avg_total_M = total_M/ (total_F+total_M)*100\n",
    "print (avg_total_F , avg_total_M )"
   ]
  },
  {
   "cell_type": "markdown",
   "metadata": {},
   "source": [
    "The proportion of women is about __65%__ and the proportion of men is __35%__. Let's plot this result using matplotlib.plyplot"
   ]
  },
  {
   "cell_type": "code",
   "execution_count": 21,
   "metadata": {},
   "outputs": [
    {
     "data": {
      "image/png": "[encoded data removed]",
      "text/plain": [
       "<matplotlib.figure.Figure at 0x7fefe889a0f0>"
      ]
     },
     "metadata": {},
     "output_type": "display_data"
    }
   ],
   "source": [
    "# Pie chart plot of 'Proportion of Men and Women'\n",
    "labels = 'Men', 'Women', \n",
    "proportion = [35, 65]\n",
    "explode = (0, 0.1)  # only \"explode\" the 2nd slice (i.e. 'women')\n",
    "\n",
    "fig1, ax1 = plt.subplots(figsize=(7, 7))\n",
    "ax1.pie(proportion, explode=explode, labels=labels, autopct='%1.0f%%',\n",
    "        shadow=True, startangle=90)\n",
    "ax1.axis('equal')  # Equal aspect ratio ensures that pie is drawn as a circle.\n",
    "\n",
    "ax1.set_title(\"Proportion of Men and Women\" , fontsize = 20)\n",
    "plt.show()\n",
    "# document : https://matplotlib.org/api/_as_gen/matplotlib.pyplot.pie.html"
   ]
  },
  {
   "cell_type": "markdown",
   "metadata": {},
   "source": [
    "__Female is the greater proportion,that means women take more care of their health in comparison to men__ <br> Let's now see if there is a relation between gender and no show"
   ]
  },
  {
   "cell_type": "code",
   "execution_count": 22,
   "metadata": {},
   "outputs": [
    {
     "name": "stdout",
     "output_type": "stream",
     "text": [
      "20.3145879733 79.6854120267\n"
     ]
    }
   ],
   "source": [
    "no_show_F = df.query('no_show == \"Yes\" & gender == \"F\" ')['patientid'].count() #claculate the number of women who doesn't show to the appointment \n",
    "show_F = df.query('no_show == \"No\" & gender == \"F\" ')['patientid'].count() #claculate the number of women who show to the appointment\n",
    "total_F = df.query('gender == \"F\" ')['patientid'].count() #calculate the total number of rows corresponding to female gender\n",
    "\n",
    "avg_no_show_F = no_show_F / total_F*100 # calculate the average number of no show \n",
    "avg_show_F = show_F /total_F*100 # calculate the average number of show \n",
    "print (avg_no_show_F , avg_show_F)"
   ]
  },
  {
   "cell_type": "markdown",
   "metadata": {},
   "source": [
    "I definded new variables for women : <br>\n",
    "no_show_F : claculate the number of women who doesn't show to the appointment <br>\n",
    "show_F : claculate the number of women who show to the appointment\n",
    "\n",
    "After this I calculated the average number of no show and the average number of show\n"
   ]
  },
  {
   "cell_type": "code",
   "execution_count": 23,
   "metadata": {},
   "outputs": [
    {
     "name": "stdout",
     "output_type": "stream",
     "text": [
      "19.9679478895 80.0320521105\n"
     ]
    }
   ],
   "source": [
    "no_show_M = df.query('no_show == \"Yes\" & gender == \"M\" ')['patientid'].count() #claculate the number of men who doesn't show to the appointment \n",
    "show_M = df.query('no_show == \"No\" & gender == \"M\" ')['patientid'].count() #claculate the number of men who show to the appointment\n",
    "total_M = df.query('gender == \"M\" ')['patientid'].count() #calculate the total number of rows corresponding to male gender\n",
    "\n",
    "\n",
    "avg_no_show_M = no_show_M / total_M*100 # calculate the average number of no show \n",
    "avg_show_M = show_M /total_M*100 # calculate the average number of show\n",
    "print (avg_no_show_M , avg_show_M)"
   ]
  },
  {
   "cell_type": "markdown",
   "metadata": {},
   "source": [
    "I definded new variables for men :\n",
    "no_show_M : claculate the number of men who doesn't show to the appointment <br>\n",
    "show_M : claculate the number of men who show to the appointment\n",
    "\n",
    "After this I calculated the average number of no show and the average number of show\n"
   ]
  },
  {
   "cell_type": "code",
   "execution_count": 24,
   "metadata": {},
   "outputs": [
    {
     "data": {
      "image/png": "[encoded data removed]",
      "text/plain": [
       "<matplotlib.figure.Figure at 0x7fefba6473c8>"
      ]
     },
     "metadata": {
      "needs_background": "light"
     },
     "output_type": "display_data"
    }
   ],
   "source": [
    "#Plot bar chart\n",
    "locations = [1, 3 , 5, 7]\n",
    "heights = [avg_no_show_F, avg_show_F, avg_no_show_M , avg_show_M]\n",
    "labels = ['no_show_Female', 'show_Female', 'no_show_Male' , 'show_Male']\n",
    "plt.subplots(figsize=(8, 5))\n",
    "plt.bar(locations, heights, tick_label=labels )\n",
    "plt.title('Average Show / No Show by Gender' , fontsize = 18)\n",
    "plt.xlabel('Gender')\n",
    "plt.ylabel('Average show / no show');"
   ]
  },
  {
   "cell_type": "markdown",
   "metadata": {},
   "source": [
    "According to the bar chart : <br> no show average is about 20% for both man and women <br> show average is about 80% for both men and women <br> "
   ]
  },
  {
   "cell_type": "markdown",
   "metadata": {},
   "source": [
    "## Question 3 : Is there any relation between the waiting period and no_show ? <br>\n",
    "\n",
    "To answer this question Iwill introduce a new variable : waiting_period\n"
   ]
  },
  {
   "cell_type": "code",
   "execution_count": 25,
   "metadata": {},
   "outputs": [],
   "source": [
    "# extracting just date from datetime culumns\n",
    "df['appointmentday'] = df['appointmentday'].dt.date\n",
    "df['scheduledday'] = df['scheduledday'].dt.date"
   ]
  },
  {
   "cell_type": "markdown",
   "metadata": {},
   "source": [
    "In the previous cell I used .dt.date to keep just the date from 'appointmentday' and 'scheduledday'"
   ]
  },
  {
   "cell_type": "code",
   "execution_count": 26,
   "metadata": {},
   "outputs": [],
   "source": [
    "# calculate the number of days between scheduled day and appointment day\n",
    "df['waiting_period'] = df['appointmentday'] - df['scheduledday']"
   ]
  },
  {
   "cell_type": "markdown",
   "metadata": {},
   "source": [
    "I added a new variable 'waiting_period' wich calculate the number of days between scheduled day and appointment day. <br> All values of the 'waiting_period' should be positive"
   ]
  },
  {
   "cell_type": "code",
   "execution_count": 27,
   "metadata": {},
   "outputs": [
    {
     "data": {
      "text/plain": [
       "count                     110527\n",
       "mean     10 days 04:24:31.828602\n",
       "std      15 days 06:07:11.673762\n",
       "min            -6 days +00:00:00\n",
       "25%              0 days 00:00:00\n",
       "50%              4 days 00:00:00\n",
       "75%             15 days 00:00:00\n",
       "max            179 days 00:00:00\n",
       "Name: waiting_period, dtype: object"
      ]
     },
     "execution_count": 27,
     "metadata": {},
     "output_type": "execute_result"
    }
   ],
   "source": [
    "df['waiting_period'].describe()"
   ]
  },
  {
   "cell_type": "markdown",
   "metadata": {},
   "source": [
    "It's seems there are some negative values. <br>\n",
    "Let's clean the dataset by dropping the rows corresponding to the neagative values of 'waiting_period'"
   ]
  },
  {
   "cell_type": "code",
   "execution_count": 28,
   "metadata": {},
   "outputs": [],
   "source": [
    "# change data type to string\n",
    "df['waiting_period'] = df['waiting_period'].astype(str)"
   ]
  },
  {
   "cell_type": "code",
   "execution_count": 29,
   "metadata": {},
   "outputs": [],
   "source": [
    "# extract integer from string\n",
    "df['waiting_period'] = df['waiting_period'].str.extract('(\\d+)').astype(int)"
   ]
  },
  {
   "cell_type": "markdown",
   "metadata": {},
   "source": [
    "In the two previous cells I changed the 'waiting_period' data type to string before extracting the number of waiting days as integer"
   ]
  },
  {
   "cell_type": "code",
   "execution_count": 30,
   "metadata": {},
   "outputs": [],
   "source": [
    "# Clean dataset by removing negative values \n",
    "df = df[df['waiting_period'] >= 0 ]"
   ]
  },
  {
   "cell_type": "markdown",
   "metadata": {},
   "source": [
    "I removed the rows corresponding to neagative values of 'waiting_period'"
   ]
  },
  {
   "cell_type": "code",
   "execution_count": 31,
   "metadata": {},
   "outputs": [
    {
     "data": {
      "text/plain": [
       "<matplotlib.axes._subplots.AxesSubplot at 0x7fefba61a7f0>"
      ]
     },
     "execution_count": 31,
     "metadata": {},
     "output_type": "execute_result"
    },
    {
     "data": {
      "image/png": "[encoded data removed]",
      "text/plain": [
       "<matplotlib.figure.Figure at 0x7fefba61ada0>"
      ]
     },
     "metadata": {
      "needs_background": "light"
     },
     "output_type": "display_data"
    }
   ],
   "source": [
    "df['waiting_period'].hist()"
   ]
  },
  {
   "cell_type": "markdown",
   "metadata": {},
   "source": [
    "the histogram plotting shows that the distribution of 'waiting_period' is skewded to the right"
   ]
  },
  {
   "cell_type": "code",
   "execution_count": 32,
   "metadata": {},
   "outputs": [
    {
     "name": "stdout",
     "output_type": "stream",
     "text": [
      "8.75465944132 15.8323849635\n"
     ]
    }
   ],
   "source": [
    "# calculate the mean waiting period for both show and no-show patients\n",
    "show_wait_prd = df.query('no_show == \"No\" ')['waiting_period'].mean() \n",
    "no_show_wait_prd = df.query('no_show == \"Yes\" ')['waiting_period'].mean() \n",
    "print (show_wait_prd, no_show_wait_prd)"
   ]
  },
  {
   "cell_type": "markdown",
   "metadata": {},
   "source": [
    "The average waiting period corresponding to __show__ is about __9 days__. However the average waiting period corresponding to __no_show__ is about __16 days__ .<br>"
   ]
  },
  {
   "cell_type": "markdown",
   "metadata": {},
   "source": [
    "<a id='conclusions'></a>\n",
    "## D. Conclusions\n",
    "After analysis we can conclude : <br> <br>\n",
    "* For question 1 we wonder if there was any relation between receipt of social welfare and showing to appointment. the analysis of the dataset showed that for patients who don't receive bolsa 80% show-up to appointment however 20% do not show_up. And for those who receive bolsa 76% show-up to appointment but 24% do not show_up. Results for both are close we can not really conclude there is an impact of bolsa receipt on the showing-up to ppointment.\n",
    "<br>\n",
    "<br>\n",
    "* For question 2 we tried to figure out if there was any relation between gender and no show. We started the analysis by comparing the proportion of men and women in the dataset, and we found that __Female is the greater proportion (65%) comparing to men(35%),that means women take more care of their health in comparison to men__. We provided more analysis to see if there is a relation between gender and no show the results shows thar there is no relation betwen the two variables. <br> <br>\n",
    "\n",
    "* For the last question we tried to figure out the relation betwen the'waiting-period' before the appointment day get  and the no_show. As a result we found that __the average waiting period corresponding to show was about 9 days. However the average waiting period corresponding to no_show is about 16 days__. We can note that in this case, the means are quite far. However comparing means is not sufficient to conclude that there is a statistically significant difference between the samples. Various factors could cause this like differences in sample size or outliers.<br><br>\n",
    "\n",
    "* Also ther are some limitations to this analysis, like the dataset size (100k rows) wich is not representative of the population of Brazil . Also there are data entry issues like negative waiting periods and negative ages.\n",
    "\n"
   ]
  },
  {
   "cell_type": "code",
   "execution_count": 94,
   "metadata": {},
   "outputs": [
    {
     "data": {
      "text/plain": [
       "0"
      ]
     },
     "execution_count": 94,
     "metadata": {},
     "output_type": "execute_result"
    }
   ],
   "source": [
    "from subprocess import call\n",
    "call(['python', '-m', 'nbconvert', 'Investigate_a_Dataset.ipynb'])"
   ]
  }
 ],
 "metadata": {
  "kernelspec": {
   "display_name": "Python 3",
   "language": "python",
   "name": "python3"
  },
  "language_info": {
   "codemirror_mode": {
    "name": "ipython",
    "version": 3
   },
   "file_extension": ".py",
   "mimetype": "text/x-python",
   "name": "python",
   "nbconvert_exporter": "python",
   "pygments_lexer": "ipython3",
   "version": "3.6.3"
  }
 },
 "nbformat": 4,
 "nbformat_minor": 2
}
